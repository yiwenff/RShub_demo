{
  "cells": [
    {
      "cell_type": "markdown",
      "metadata": {
        "id": "view-in-github",
        "colab_type": "text"
      },
      "source": [
        "<a href=\"https://colab.research.google.com/github/yiwenff/RShub_demo/blob/main/Run_Total_RTE_Veg_from_server.ipynb\" target=\"_parent\"><img src=\"https://colab.research.google.com/assets/colab-badge.svg\" alt=\"Open In Colab\"/></a>"
      ]
    },
    {
      "cell_type": "markdown",
      "metadata": {
        "id": "XL4kfhA6E-mP"
      },
      "source": [
        "# Vegetation Radiative Transfer Model Demo"
      ]
    },
    {
      "cell_type": "code",
      "execution_count": 1,
      "metadata": {
        "id": "bd04Roi1E-mR"
      },
      "outputs": [],
      "source": [
        "import requests\n",
        "import json\n",
        "import uuid\n",
        "import time\n",
        "import datetime"
      ]
    },
    {
      "cell_type": "code",
      "execution_count": 2,
      "metadata": {
        "colab": {
          "base_uri": "https://localhost:8080/"
        },
        "id": "L099itl5E-mR",
        "outputId": "7507733f-0232-4927-ff2e-e5f7c021817d"
      },
      "outputs": [
        {
          "output_type": "stream",
          "name": "stdout",
          "text": [
            "Collecting https://rshub.zju.edu.cn/projects/rstool-0.0.tar.gz\n",
            "  Downloading https://rshub.zju.edu.cn/projects/rstool-0.0.tar.gz (2.3 kB)\n",
            "  Preparing metadata (setup.py) ... \u001b[?25l\u001b[?25hdone\n",
            "Requirement already satisfied: requests in /usr/local/lib/python3.10/dist-packages (from rstool==0.0) (2.31.0)\n",
            "Requirement already satisfied: scipy in /usr/local/lib/python3.10/dist-packages (from rstool==0.0) (1.11.4)\n",
            "Requirement already satisfied: charset-normalizer<4,>=2 in /usr/local/lib/python3.10/dist-packages (from requests->rstool==0.0) (3.3.2)\n",
            "Requirement already satisfied: idna<4,>=2.5 in /usr/local/lib/python3.10/dist-packages (from requests->rstool==0.0) (3.7)\n",
            "Requirement already satisfied: urllib3<3,>=1.21.1 in /usr/local/lib/python3.10/dist-packages (from requests->rstool==0.0) (2.0.7)\n",
            "Requirement already satisfied: certifi>=2017.4.17 in /usr/local/lib/python3.10/dist-packages (from requests->rstool==0.0) (2024.6.2)\n",
            "Requirement already satisfied: numpy<1.28.0,>=1.21.6 in /usr/local/lib/python3.10/dist-packages (from scipy->rstool==0.0) (1.25.2)\n",
            "Building wheels for collected packages: rstool\n",
            "  Building wheel for rstool (setup.py) ... \u001b[?25l\u001b[?25hdone\n",
            "  Created wheel for rstool: filename=rstool-0.0-py3-none-any.whl size=2923 sha256=16f32410f3fdb0d59e3e2685561d8b3941d46b09b9eede17d371c879922231df\n",
            "  Stored in directory: /root/.cache/pip/wheels/18/bc/d6/8a73e48a9f91c470df704980f85aa5b9ed8b12086a6cad0719\n",
            "Successfully built rstool\n",
            "Installing collected packages: rstool\n",
            "Successfully installed rstool-0.0\n"
          ]
        }
      ],
      "source": [
        "!pip install https://rshub.zju.edu.cn/projects/rstool-0.0.tar.gz"
      ]
    },
    {
      "cell_type": "markdown",
      "metadata": {
        "id": "ZfrWENv0E-mS"
      },
      "source": [
        "## How would vertical distribution of vegetation structure impact Tb?"
      ]
    },
    {
      "cell_type": "code",
      "source": [
        "# Define user token\n",
        "token = '6uf0z22#$m!!0095xo**1vy1s*04k!'\n",
        "project_name = 'Vegetation Demo'\n",
        "task_name = 'Two Layer Case3'"
      ],
      "metadata": {
        "id": "e4GvAS5FKGbl"
      },
      "execution_count": 6,
      "outputs": []
    },
    {
      "cell_type": "code",
      "execution_count": 5,
      "metadata": {
        "colab": {
          "base_uri": "https://localhost:8080/"
        },
        "id": "wfHiUzAEE-mS",
        "outputId": "974ce8c8-fcff-46df-99c8-536b5f639228"
      },
      "outputs": [
        {
          "output_type": "stream",
          "name": "stdout",
          "text": [
            "[[1, 0.37, 7.85, 0.15, 0, 0, 0, 8, 0.24], [1, 0.444, 0.555, 0.0112, 35, 90, 8, 8, 0.24]]\n"
          ]
        }
      ],
      "source": [
        "# ============== CHANGE YOUR INPUT PARAMETERS HERE ==============\n",
        "# ====== Parameters not define will be set to default values ======\n",
        "# Step 1: Define Scenario flag\n",
        "# 1: Bare soil\n",
        "# 2: Snow\n",
        "# 3: Vegetation covered soil\n",
        "scenario_flag = 3\n",
        "\n",
        "# Step 2: Define observation description\n",
        "# 1) Observation mode\n",
        "# 1: Active (Backscatter)\n",
        "# 2: Passive (Brightness temperature)\n",
        "output_var = 2\n",
        "\n",
        "# 2) Observation characteristics\n",
        "fGHz = [1.41,6.925, 10.65]\n",
        "\n",
        "# Step 3: Define Algorithm flag\n",
        "# 1: RT\n",
        "algorithm = 1\n",
        "\n",
        "# Step 4: Describe your scenario\n",
        "scatters=[[]]\n",
        "# Primary Branch\n",
        "types = 1\n",
        "VM = 0.37\n",
        "L = 7.85\n",
        "D = 0.15\n",
        "beta1 = 0\n",
        "beta2 = 0\n",
        "disbot = 0\n",
        "distop = 8\n",
        "NA = 0.24\n",
        "scatters[0]=[types, VM, L, D, beta1, beta2, disbot, distop, NA]\n",
        "\n",
        "# Leaf\n",
        "types = 1\n",
        "VM = 0.444\n",
        "L = 0.555\n",
        "D = 0.0112\n",
        "beta1 = 35\n",
        "beta2 = 90\n",
        "disbot = 8\n",
        "distop = 8\n",
        "NA = 0.24\n",
        "scatters.append([types, VM, L, D, beta1, beta2, disbot, distop, NA])\n",
        "print(scatters)\n"
      ]
    },
    {
      "cell_type": "code",
      "execution_count": 7,
      "metadata": {
        "id": "5pi_g5hAE-mS"
      },
      "outputs": [],
      "source": [
        "data = {\n",
        "    'scenario_flag': scenario_flag,\n",
        "    'output_var': output_var,'fGHz': fGHz,\n",
        "    'algorithm':algorithm,\n",
        "    'scatters': scatters,'core_num':2,\n",
        "    'project_name':project_name,\n",
        "    'task_name':task_name,\n",
        "    'token': token,\n",
        "    'level_required':1\n",
        "}"
      ]
    },
    {
      "cell_type": "markdown",
      "metadata": {
        "id": "FpyY814FE-mT"
      },
      "source": [
        "## Run models"
      ]
    },
    {
      "cell_type": "code",
      "execution_count": 8,
      "metadata": {
        "colab": {
          "base_uri": "https://localhost:8080/",
          "height": 90
        },
        "id": "dfCg0pdFE-mT",
        "outputId": "207143cf-7ec8-4223-937f-f915c8afe93e"
      },
      "outputs": [
        {
          "output_type": "stream",
          "name": "stdout",
          "text": [
            "{\"scenario_flag\": 3, \"output_var\": 2, \"fGHz\": [1.41, 6.925, 10.65], \"algorithm\": 1, \"scatters\": [[1, 0.37, 7.85, 0.15, 0, 0, 0, 8, 0.24], [1, 0.444, 0.555, 0.0112, 35, 90, 8, 8, 0.24]], \"core_num\": 2, \"project_name\": \"Vegetation Demo\", \"task_name\": \"Two Layer Case3\", \"token\": \"6uf0z22#$m!!0095xo**1vy1s*04k!\", \"level_required\": 1}\n"
          ]
        },
        {
          "output_type": "execute_result",
          "data": {
            "text/plain": [
              "'{\"model\":\"Vegetation Passive Radiative Transfer (VPRT) Model\",\"outpath\":\"qVdfCRTeZU8DTkBnzt6rwhVWN2kEVO\",\"result\":\"Job submitted! Check Email for details.\"}\\n'"
            ],
            "application/vnd.google.colaboratory.intrinsic+json": {
              "type": "string"
            }
          },
          "metadata": {},
          "execution_count": 8
        }
      ],
      "source": [
        "from rstool import submit_jobs\n",
        "result=submit_jobs.run(data)"
      ]
    },
    {
      "cell_type": "code",
      "source": [
        "UID=result[\"output\"]"
      ],
      "metadata": {
        "id": "qzXvymrFLP9S"
      },
      "execution_count": null,
      "outputs": []
    },
    {
      "cell_type": "code",
      "execution_count": 9,
      "metadata": {
        "id": "l1ZWw6olE-mT"
      },
      "outputs": [],
      "source": [
        "# Store log information\n",
        "now = datetime.datetime.now()\n",
        "logname = 'log_' + now.strftime(\"%Y%m%d%H%M%D\") + '.txt'\n",
        "f = open('log.txt',\"a\")\n",
        "head_string = '======' + now.strftime(\"%Y%m%d%H%M%D\") + '======' + \"\\n\"\n",
        "f.write(head_string)\n",
        "f.write(f' ID = {UID} \\n')\n",
        "f.write(f' data = {data} \\n')\n",
        "f.write('================================ \\n')\n",
        "f.close()"
      ]
    },
    {
      "cell_type": "markdown",
      "metadata": {
        "id": "dDKWEsc7E-mT"
      },
      "source": [
        "## Check status of code"
      ]
    },
    {
      "cell_type": "code",
      "execution_count": null,
      "metadata": {
        "id": "3lA7MnzXE-mT",
        "outputId": "84af2b70-9bd5-4a47-db10-9291b55b40d5"
      },
      "outputs": [
        {
          "name": "stdout",
          "output_type": "stream",
          "text": [
            "job 1 out of 5: R\n",
            "R\n",
            "job 1 out of 5: R\n",
            "R\n",
            "job 1 out of 5: C\n",
            "C\n",
            "job 2 out of 5: C\n",
            "C\n",
            "job 3 out of 5: C\n",
            "C\n",
            "job 4 out of 5: R\n",
            "R\n",
            "job 4 out of 5: R\n",
            "R\n",
            "job 4 out of 5: R\n",
            "R\n",
            "job 4 out of 5: R\n",
            "R\n",
            "job 4 out of 5: C\n",
            "C\n",
            "job 5 out of 5: R\n",
            "R\n",
            "job 5 out of 5: R\n",
            "R\n",
            "job 5 out of 5: R\n",
            "R\n",
            "job 5 out of 5: R\n",
            "R\n",
            "job 5 out of 5: R\n",
            "R\n",
            "job 5 out of 5: R\n",
            "R\n",
            "job 5 out of 5: R\n",
            "R\n",
            "job 5 out of 5: R\n",
            "R\n",
            "job 5 out of 5: R\n",
            "R\n",
            "job 5 out of 5: R\n",
            "R\n",
            "job 5 out of 5: C\n",
            "C\n"
          ]
        },
        {
          "data": {
            "text/plain": [
              "' files are stored in 799abf6a-05b0-4532-8827-7cf78dc3fe51'"
            ]
          },
          "execution_count": 7,
          "metadata": {},
          "output_type": "execute_result"
        }
      ],
      "source": [
        "submit_jobs.check_state(UID)"
      ]
    },
    {
      "cell_type": "markdown",
      "metadata": {
        "id": "XuFz3psuE-mT"
      },
      "source": [
        "# Post Process"
      ]
    },
    {
      "cell_type": "code",
      "execution_count": 10,
      "metadata": {
        "id": "cerjgbFQE-mU"
      },
      "outputs": [],
      "source": [
        "from rstool.load_file import load_mat_file"
      ]
    },
    {
      "cell_type": "code",
      "execution_count": 11,
      "metadata": {
        "colab": {
          "base_uri": "https://localhost:8080/"
        },
        "id": "Av82rtKQE-mU",
        "outputId": "fc73e732-379c-4a00-c867-8a36e9391313"
      },
      "outputs": [
        {
          "output_type": "stream",
          "name": "stdout",
          "text": [
            "https://rshub.zju.edu.cn/projects/qVdfCRTeZU8DTkBnzt6rwhVWN2kEVO/TB/TB_fGHz1.41.mat\n"
          ]
        }
      ],
      "source": [
        "mat_data1 = load_mat_file(token, project_name, task_name,'1.41')\n",
        "mat_data_multi = mat_data1.load_veg_TB()\n",
        "# Read variables into python\n",
        "TU_all = mat_data_multi['TU_all'] # Tbs\n",
        "theta_obs = mat_data_multi['theta_obs'] # theta"
      ]
    },
    {
      "cell_type": "code",
      "source": [
        "mat_data2 = load_mat_file(token, project_name, task_name,'6.925')\n",
        "mat_data_multi2 = mat_data2.load_veg_TB()\n",
        "# Read variables into python\n",
        "TU_all2 = mat_data_multi2['TU_all'] # Tbs\n",
        "theta_obs2 = mat_data_multi2['theta_obs'] # theta"
      ],
      "metadata": {
        "colab": {
          "base_uri": "https://localhost:8080/"
        },
        "id": "UYsUIedXLZRh",
        "outputId": "d062dac5-110d-4549-fe50-ae13e242aa85"
      },
      "execution_count": 12,
      "outputs": [
        {
          "output_type": "stream",
          "name": "stdout",
          "text": [
            "https://rshub.zju.edu.cn/projects/qVdfCRTeZU8DTkBnzt6rwhVWN2kEVO/TB/TB_fGHz6.925.mat\n"
          ]
        }
      ]
    },
    {
      "cell_type": "code",
      "execution_count": 13,
      "metadata": {
        "colab": {
          "base_uri": "https://localhost:8080/",
          "height": 470
        },
        "id": "6zk7uQRUE-mU",
        "outputId": "33601c60-bddb-40a3-eac6-a93e96efc176"
      },
      "outputs": [
        {
          "output_type": "execute_result",
          "data": {
            "text/plain": [
              "<matplotlib.legend.Legend at 0x7a371bd6b070>"
            ]
          },
          "metadata": {},
          "execution_count": 13
        },
        {
          "output_type": "display_data",
          "data": {
            "text/plain": [
              "<Figure size 640x480 with 1 Axes>"
            ],
            "image/png": "[encoded data removed]"
          },
          "metadata": {}
        }
      ],
      "source": [
        "import matplotlib.pyplot as plt\n",
        "\n",
        "# plot the data\n",
        "fig = plt.figure()\n",
        "ax = fig.add_subplot(1, 1, 1)\n",
        "ax.plot(theta_obs[0,:], TU_all[0,:], color='tab:blue')\n",
        "ax.plot(theta_obs[0,:], TU_all[1,:], color='tab:orange')\n",
        "ax.plot(theta_obs2[0,:], TU_all2[0,:], color='tab:blue',linestyle='--')\n",
        "ax.plot(theta_obs2[0,:], TU_all2[1,:], color='tab:orange',linestyle='--')\n",
        "ax.set(xlabel='Observation Angle $\\Theta(^\\circ)$', ylabel='Brightness Temperature $T_B(K)$')\n",
        "ax.legend(['layered case V', 'layered case H', 'uniform case V', 'uinform case H'])"
      ]
    },
    {
      "cell_type": "code",
      "execution_count": null,
      "metadata": {
        "id": "ZyXmea2ME-mU"
      },
      "outputs": [],
      "source": []
    }
  ],
  "metadata": {
    "kernelspec": {
      "display_name": "Python 3 (ipykernel)",
      "language": "python",
      "name": "python3"
    },
    "language_info": {
      "codemirror_mode": {
        "name": "ipython",
        "version": 3
      },
      "file_extension": ".py",
      "mimetype": "text/x-python",
      "name": "python",
      "nbconvert_exporter": "python",
      "pygments_lexer": "ipython3",
      "version": "3.8.5"
    },
    "colab": {
      "provenance": [],
      "include_colab_link": true
    }
  },
  "nbformat": 4,
  "nbformat_minor": 0
}